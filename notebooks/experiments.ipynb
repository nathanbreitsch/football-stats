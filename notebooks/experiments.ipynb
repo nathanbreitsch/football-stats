{
 "cells": [
  {
   "cell_type": "code",
   "execution_count": 436,
   "metadata": {
    "collapsed": true
   },
   "outputs": [],
   "source": [
    "import pandas as pd\n",
    "import json\n",
    "from itertools import groupby\n",
    "from collections import defaultdict"
   ]
  },
  {
   "cell_type": "code",
   "execution_count": 437,
   "metadata": {
    "collapsed": false
   },
   "outputs": [],
   "source": [
    "games = []\n",
    "action_types = defaultdict(lambda : 0)"
   ]
  },
  {
   "cell_type": "code",
   "execution_count": 438,
   "metadata": {
    "collapsed": false
   },
   "outputs": [],
   "source": [
    "def preprocess(games):\n",
    "    for game in games:\n",
    "        for quarter in game['quarters']:\n",
    "            for play in quarter['plays']:\n",
    "                for action in play['actions']:\n",
    "                    if 'athlete' in action:\n",
    "                        action['athlete'] = action['athlete']['$oid']\n",
    "                        \n",
    "                    if action['action_type'] == 'quarterback':\n",
    "                        receiver_actions = [a for a in play['actions'] \n",
    "                                            if a['action_type'] == 'receiver']\n",
    "                        if(len(receiver_actions) == 1):\n",
    "                            action['observations']['Drop'] = receiver_actions[0]['observations']['Drop']\n",
    "                        else:\n",
    "                            action['observations']['Drop'] = 0\n",
    "                    \n",
    "                            "
   ]
  },
  {
   "cell_type": "code",
   "execution_count": 439,
   "metadata": {
    "collapsed": false
   },
   "outputs": [],
   "source": [
    "def get_actions(games, game_filter):\n",
    "    action_type = game_filter['action_type']\n",
    "\n",
    "    actions = []\n",
    "    for game in games:\n",
    "        for quarter in game['quarters']:\n",
    "            for play in quarter['plays']:\n",
    "                for action in play['actions']:\n",
    "                    if 'athlete' in action:\n",
    "                        if action['action_type'] == action_type:\n",
    "                            actions.append(action)\n",
    "\n",
    "\n",
    "\n",
    "    return actions"
   ]
  },
  {
   "cell_type": "code",
   "execution_count": 409,
   "metadata": {
    "collapsed": false,
    "scrolled": false
   },
   "outputs": [],
   "source": [
    "# load data\n",
    "with open('../data/games.json', 'r') as f:\n",
    "    games = json.load(f)\n",
    "    preprocess(games)"
   ]
  },
  {
   "cell_type": "code",
   "execution_count": 410,
   "metadata": {
    "collapsed": false
   },
   "outputs": [],
   "source": [
    "actions = get_actions(games, {'action_type': 'quarterback'})"
   ]
  },
  {
   "cell_type": "code",
   "execution_count": 411,
   "metadata": {
    "collapsed": true
   },
   "outputs": [],
   "source": [
    "def group_by_athlete(actions):\n",
    "    #one must sort before grouping\n",
    "    actions_sorted = sorted(actions, key = lambda a: a['athlete'])\n",
    "    actions_grouped = groupby(actions_sorted, lambda a: a['athlete'])\n",
    "    action_groups = [{'athlete': key, 'actions': list(group)} for key, group in actions_grouped]\n",
    "    return action_groups"
   ]
  },
  {
   "cell_type": "code",
   "execution_count": 412,
   "metadata": {
    "collapsed": true
   },
   "outputs": [],
   "source": [
    "def parse_dropback(text):\n",
    "    if 'SG' in text or 'UC' in text:\n",
    "        return 1\n",
    "    else:\n",
    "        return 0\n",
    "    "
   ]
  },
  {
   "cell_type": "code",
   "execution_count": null,
   "metadata": {
    "collapsed": true
   },
   "outputs": [],
   "source": []
  },
  {
   "cell_type": "code",
   "execution_count": 413,
   "metadata": {
    "collapsed": false
   },
   "outputs": [],
   "source": [
    "def safe_parse_int(text):\n",
    "    if text.isdigit():\n",
    "        return int(text)\n",
    "    else:\n",
    "        return 0"
   ]
  },
  {
   "cell_type": "code",
   "execution_count": null,
   "metadata": {
    "collapsed": false
   },
   "outputs": [],
   "source": []
  },
  {
   "cell_type": "code",
   "execution_count": 448,
   "metadata": {
    "collapsed": false
   },
   "outputs": [],
   "source": [
    "def compute_qb_stats(qb_action_group):\n",
    "    actions = qb_action_group\n",
    "    drop_back_count = len([1 for a in actions \n",
    "                           if a['observations']['SG/UC'] in ['SG', 'UC']])\n",
    "    \n",
    "    attempts = sum([1 for a in actions\n",
    "                       if a['observations']['Att'] == '1'])\n",
    "    \n",
    "    completions = completions = sum([1 for a in actions\n",
    "                       if a['observations']['Comp'] == '1'])\n",
    "    \n",
    "    total_yards = sum(map(\n",
    "        lambda a: safe_parse_int(a['observations']['Tyds']),\n",
    "        actions\n",
    "    ))\n",
    "    \n",
    "    air_yards = sum(map(\n",
    "        lambda a: safe_parse_int(a['observations']['AirYds']),\n",
    "        actions\n",
    "    ))\n",
    "    \n",
    "    pressured_count = sum([1 for a in actions\n",
    "                       if a['observations']['Press'] == '1'])\n",
    "    \n",
    "    touchdown_count = sum([1 for a in actions\n",
    "                       if a['observations']['TD'] == '1'])\n",
    "    \n",
    "    interception_count = sum([1 for a in actions\n",
    "                       if a['observations']['Int'] == '1'])\n",
    "    \n",
    "    throwaway_count = sum([1 for a in actions\n",
    "                       if a['observations']['TA'] == '1'])\n",
    "    \n",
    "    sack_count = sum([1 for a in actions\n",
    "                       if a['observations']['Sk'] == '1'])\n",
    "    \n",
    "    hit_count = sum([1 for a in actions\n",
    "                       if a['observations']['Ht'] == '1'])\n",
    "    \n",
    "    hurried_count = sum([1 for a in actions\n",
    "                       if a['observations']['Hur'] == '1'])\n",
    "    \n",
    "    drop_count = sum([1 for a in actions\n",
    "                       if a['observations']['Drop'] == '1'])\n",
    "    \n",
    "    action_count = len(actions)\n",
    "    \n",
    "    completion_rate = round(completions / attempts, 3) if attempts > 0 else 0\n",
    "    \n",
    "    air_yards_per_attempt = round(air_yards / attempts, 3) if attempts > 0 else 0\n",
    "    \n",
    "    \n",
    "\n",
    "    \n",
    "    \n",
    "    return {\n",
    "        'dropback_count': drop_back_count,\n",
    "        'attempts': attempts,\n",
    "        'completions': completions,\n",
    "        'completion_rate': completion_rate,\n",
    "        'total_yards': total_yards,\n",
    "        'air_yards': air_yards,\n",
    "        'air_yards_per_attempt': air_yards_per_attempt,\n",
    "        'pressured_count': pressured_count,\n",
    "        'touchdown_count': touchdown_count,\n",
    "        'interception_count': interception_count,\n",
    "        'throwaway_count': throwaway_count,\n",
    "        'drop_count': drop_count,\n",
    "        'sack_count': sack_count,\n",
    "        'hit_count': hit_count,\n",
    "        'hurried_count': hurried_count\n",
    "    }\n",
    "    "
   ]
  },
  {
   "cell_type": "code",
   "execution_count": 415,
   "metadata": {
    "collapsed": false
   },
   "outputs": [],
   "source": [
    "qb_actions = filter(lambda a: a['action_type'] == 'quarterback', actions)"
   ]
  },
  {
   "cell_type": "code",
   "execution_count": 416,
   "metadata": {
    "collapsed": false
   },
   "outputs": [],
   "source": [
    "qb_action_groups = group_by_athlete(qb_actions)"
   ]
  },
  {
   "cell_type": "code",
   "execution_count": null,
   "metadata": {
    "collapsed": false,
    "scrolled": false
   },
   "outputs": [],
   "source": []
  },
  {
   "cell_type": "code",
   "execution_count": 418,
   "metadata": {
    "collapsed": false
   },
   "outputs": [
    {
     "data": {
      "text/plain": [
       "76"
      ]
     },
     "execution_count": 418,
     "metadata": {},
     "output_type": "execute_result"
    }
   ],
   "source": [
    "actions = qb_action_groups[0]['actions']\n",
    "drop_back_count = len([1 for a in actions \n",
    "                           if a['observations']['SG/UC'] in ['SG', 'UC']])\n",
    "drop_back_count"
   ]
  },
  {
   "cell_type": "code",
   "execution_count": null,
   "metadata": {
    "collapsed": false
   },
   "outputs": [],
   "source": []
  },
  {
   "cell_type": "code",
   "execution_count": 419,
   "metadata": {
    "collapsed": false
   },
   "outputs": [
    {
     "data": {
      "text/plain": [
       "68"
      ]
     },
     "execution_count": 419,
     "metadata": {},
     "output_type": "execute_result"
    }
   ],
   "source": [
    "attempts = sum([1 for a in actions\n",
    "                       if a['observations']['Att'] == '1'])\n",
    "attempts"
   ]
  },
  {
   "cell_type": "code",
   "execution_count": 420,
   "metadata": {
    "collapsed": false
   },
   "outputs": [
    {
     "data": {
      "text/plain": [
       "40"
      ]
     },
     "execution_count": 420,
     "metadata": {},
     "output_type": "execute_result"
    }
   ],
   "source": [
    "completions = sum([1 for a in actions\n",
    "                       if a['observations']['Comp'] == '1'])\n",
    "completions"
   ]
  },
  {
   "cell_type": "code",
   "execution_count": 421,
   "metadata": {
    "collapsed": false
   },
   "outputs": [
    {
     "data": {
      "text/plain": [
       "390"
      ]
     },
     "execution_count": 421,
     "metadata": {},
     "output_type": "execute_result"
    }
   ],
   "source": [
    "total_yards = sum(map(\n",
    "        lambda a: safe_parse_int(a['observations']['Tyds']),\n",
    "        actions\n",
    "    ))\n",
    "total_yards"
   ]
  },
  {
   "cell_type": "code",
   "execution_count": 422,
   "metadata": {
    "collapsed": false
   },
   "outputs": [
    {
     "data": {
      "text/plain": [
       "892"
      ]
     },
     "execution_count": 422,
     "metadata": {},
     "output_type": "execute_result"
    }
   ],
   "source": [
    "air_yards = sum(map(\n",
    "        lambda a: safe_parse_int(a['observations']['AirYds']),\n",
    "        actions\n",
    "    ))\n",
    "air_yards"
   ]
  },
  {
   "cell_type": "code",
   "execution_count": 423,
   "metadata": {
    "collapsed": false
   },
   "outputs": [
    {
     "data": {
      "text/plain": [
       "14"
      ]
     },
     "execution_count": 423,
     "metadata": {},
     "output_type": "execute_result"
    }
   ],
   "source": [
    "pressured_count = sum([1 for a in actions\n",
    "                       if a['observations']['Press'] == '1'])\n",
    "pressured_count"
   ]
  },
  {
   "cell_type": "code",
   "execution_count": 424,
   "metadata": {
    "collapsed": false
   },
   "outputs": [
    {
     "data": {
      "text/plain": [
       "2"
      ]
     },
     "execution_count": 424,
     "metadata": {},
     "output_type": "execute_result"
    }
   ],
   "source": [
    "touchdown_count = sum([1 for a in actions\n",
    "                       if a['observations']['TD'] == '1'])\n",
    "touchdown_count"
   ]
  },
  {
   "cell_type": "code",
   "execution_count": 425,
   "metadata": {
    "collapsed": false
   },
   "outputs": [
    {
     "data": {
      "text/plain": [
       "2"
      ]
     },
     "execution_count": 425,
     "metadata": {},
     "output_type": "execute_result"
    }
   ],
   "source": [
    "interception_count = sum([1 for a in actions\n",
    "                       if a['observations']['Int'] == '1'])\n",
    "interception_count"
   ]
  },
  {
   "cell_type": "code",
   "execution_count": 426,
   "metadata": {
    "collapsed": false
   },
   "outputs": [
    {
     "data": {
      "text/plain": [
       "0"
      ]
     },
     "execution_count": 426,
     "metadata": {},
     "output_type": "execute_result"
    }
   ],
   "source": [
    "throwaway_count = sum([1 for a in actions\n",
    "                       if a['observations']['TA'] == '1'])\n",
    "throwaway_count"
   ]
  },
  {
   "cell_type": "code",
   "execution_count": 427,
   "metadata": {
    "collapsed": false
   },
   "outputs": [
    {
     "data": {
      "text/plain": [
       "2"
      ]
     },
     "execution_count": 427,
     "metadata": {},
     "output_type": "execute_result"
    }
   ],
   "source": [
    "sack_count = sum([1 for a in actions\n",
    "                       if a['observations']['Sk'] == '1'])\n",
    "sack_count"
   ]
  },
  {
   "cell_type": "code",
   "execution_count": 428,
   "metadata": {
    "collapsed": false
   },
   "outputs": [
    {
     "data": {
      "text/plain": [
       "4"
      ]
     },
     "execution_count": 428,
     "metadata": {},
     "output_type": "execute_result"
    }
   ],
   "source": [
    "hit_count = sum([1 for a in actions\n",
    "                       if a['observations']['Ht'] == '1'])\n",
    "hit_count"
   ]
  },
  {
   "cell_type": "code",
   "execution_count": 429,
   "metadata": {
    "collapsed": false
   },
   "outputs": [
    {
     "data": {
      "text/plain": [
       "2"
      ]
     },
     "execution_count": 429,
     "metadata": {},
     "output_type": "execute_result"
    }
   ],
   "source": [
    "hurried_count = sum([1 for a in actions\n",
    "                       if a['observations']['Hur'] == '1'])\n",
    "hurried_count"
   ]
  },
  {
   "cell_type": "code",
   "execution_count": 447,
   "metadata": {
    "collapsed": false
   },
   "outputs": [
    {
     "data": {
      "text/plain": [
       "0"
      ]
     },
     "execution_count": 447,
     "metadata": {},
     "output_type": "execute_result"
    }
   ],
   "source": [
    "drop_count = sum([1 for a in actions\n",
    "                       if a['observations']['Drop'] == '1'])\n",
    "drop_count"
   ]
  },
  {
   "cell_type": "code",
   "execution_count": 431,
   "metadata": {
    "collapsed": false
   },
   "outputs": [
    {
     "data": {
      "text/plain": [
       "76"
      ]
     },
     "execution_count": 431,
     "metadata": {},
     "output_type": "execute_result"
    }
   ],
   "source": [
    "action_count = len(actions)\n",
    "action_count"
   ]
  },
  {
   "cell_type": "code",
   "execution_count": 432,
   "metadata": {
    "collapsed": false
   },
   "outputs": [
    {
     "data": {
      "text/plain": [
       "0.588"
      ]
     },
     "execution_count": 432,
     "metadata": {},
     "output_type": "execute_result"
    }
   ],
   "source": [
    "completion_rate = completions / attempts\n",
    "completion_rate = round(completion_rate, 3)\n",
    "completion_rate"
   ]
  },
  {
   "cell_type": "code",
   "execution_count": 433,
   "metadata": {
    "collapsed": false
   },
   "outputs": [
    {
     "data": {
      "text/plain": [
       "13.118"
      ]
     },
     "execution_count": 433,
     "metadata": {},
     "output_type": "execute_result"
    }
   ],
   "source": [
    "air_yards_per_attempt = round(air_yards / attempts, 3)\n",
    "air_yards_per_attempt"
   ]
  },
  {
   "cell_type": "code",
   "execution_count": null,
   "metadata": {
    "collapsed": true
   },
   "outputs": [],
   "source": []
  },
  {
   "cell_type": "code",
   "execution_count": 434,
   "metadata": {
    "collapsed": false
   },
   "outputs": [
    {
     "data": {
      "text/plain": [
       "{'air_yards': 892,\n",
       " 'air_yards_per_attempt': 13.118,\n",
       " 'attempts': 68,\n",
       " 'completion_rate': 0.588,\n",
       " 'completions': 40,\n",
       " 'dropback_count': 76,\n",
       " 'hit_count': 4,\n",
       " 'hurried_count': 2,\n",
       " 'interception_count': 2,\n",
       " 'pressured_count': 14,\n",
       " 'sack_count': 2,\n",
       " 'throwaway_count': 0,\n",
       " 'total_yards': 390,\n",
       " 'touchdown_count': 2}"
      ]
     },
     "execution_count": 434,
     "metadata": {},
     "output_type": "execute_result"
    }
   ],
   "source": [
    "compute_qb_stats(actions)"
   ]
  },
  {
   "cell_type": "code",
   "execution_count": 449,
   "metadata": {
    "collapsed": false
   },
   "outputs": [],
   "source": [
    "qb_stats = [{\n",
    "        'athlete': g['athlete'],\n",
    "        'stats': compute_qb_stats(g['actions'])\n",
    "    } for g in qb_actions]"
   ]
  },
  {
   "cell_type": "code",
   "execution_count": null,
   "metadata": {
    "collapsed": false
   },
   "outputs": [],
   "source": []
  },
  {
   "cell_type": "code",
   "execution_count": null,
   "metadata": {
    "collapsed": true
   },
   "outputs": [],
   "source": []
  }
 ],
 "metadata": {
  "kernelspec": {
   "display_name": "Python 3",
   "language": "python",
   "name": "python3"
  },
  "language_info": {
   "codemirror_mode": {
    "name": "ipython",
    "version": 3
   },
   "file_extension": ".py",
   "mimetype": "text/x-python",
   "name": "python",
   "nbconvert_exporter": "python",
   "pygments_lexer": "ipython3",
   "version": "3.5.1"
  }
 },
 "nbformat": 4,
 "nbformat_minor": 0
}
